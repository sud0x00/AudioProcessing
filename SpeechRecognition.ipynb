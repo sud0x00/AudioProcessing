{
  "nbformat": 4,
  "nbformat_minor": 0,
  "metadata": {
    "colab": {
      "provenance": [],
      "authorship_tag": "ABX9TyOqcVcGU7H1jEOZfkw32q0T",
      "include_colab_link": true
    },
    "kernelspec": {
      "name": "python3",
      "display_name": "Python 3"
    },
    "language_info": {
      "name": "python"
    }
  },
  "cells": [
    {
      "cell_type": "markdown",
      "metadata": {
        "id": "view-in-github",
        "colab_type": "text"
      },
      "source": [
        "<a href=\"https://colab.research.google.com/github/sud0x00/AudioProcessing/blob/main/SpeechRecognition.ipynb\" target=\"_parent\"><img src=\"https://colab.research.google.com/assets/colab-badge.svg\" alt=\"Open In Colab\"/></a>"
      ]
    },
    {
      "cell_type": "markdown",
      "source": [
        "# Pre-Reqs\n",
        "\n",
        "sudo apt-get install ffmpeg"
      ],
      "metadata": {
        "id": "9E2xAgWMkVZJ"
      }
    },
    {
      "cell_type": "code",
      "execution_count": 1,
      "metadata": {
        "colab": {
          "base_uri": "https://localhost:8080/"
        },
        "id": "EoqGSCL_kIOD",
        "outputId": "2232d901-61d1-466a-9191-f00aec1df4e6"
      },
      "outputs": [
        {
          "output_type": "stream",
          "name": "stdout",
          "text": [
            "--2023-08-06 16:10:23--  https://audio-samples.github.io/samples/mp3/blizzard_tts_unbiased/sample-6/fake-1.mp3\n",
            "Resolving audio-samples.github.io (audio-samples.github.io)... 185.199.108.153, 185.199.109.153, 185.199.110.153, ...\n",
            "Connecting to audio-samples.github.io (audio-samples.github.io)|185.199.108.153|:443... connected.\n",
            "HTTP request sent, awaiting response... 200 OK\n",
            "Length: 120103 (117K) [audio/mp3]\n",
            "Saving to: ‘fake-1.mp3’\n",
            "\n",
            "\rfake-1.mp3            0%[                    ]       0  --.-KB/s               \rfake-1.mp3          100%[===================>] 117.29K  --.-KB/s    in 0.03s   \n",
            "\n",
            "2023-08-06 16:10:23 (4.53 MB/s) - ‘fake-1.mp3’ saved [120103/120103]\n",
            "\n"
          ]
        }
      ],
      "source": [
        "!wget https://audio-samples.github.io/samples/mp3/blizzard_tts_unbiased/sample-6/fake-1.mp3"
      ]
    },
    {
      "cell_type": "code",
      "source": [
        "!pip install SpeechRecognition pydub"
      ],
      "metadata": {
        "colab": {
          "base_uri": "https://localhost:8080/"
        },
        "id": "TsfAvTnMkKEZ",
        "outputId": "ac2c2791-b2b0-4e15-9a4e-679eda0e4ba2"
      },
      "execution_count": 2,
      "outputs": [
        {
          "output_type": "stream",
          "name": "stdout",
          "text": [
            "Collecting SpeechRecognition\n",
            "  Downloading SpeechRecognition-3.10.0-py2.py3-none-any.whl (32.8 MB)\n",
            "\u001b[2K     \u001b[90m━━━━━━━━━━━━━━━━━━━━━━━━━━━━━━━━━━━━━━━━\u001b[0m \u001b[32m32.8/32.8 MB\u001b[0m \u001b[31m28.6 MB/s\u001b[0m eta \u001b[36m0:00:00\u001b[0m\n",
            "\u001b[?25hCollecting pydub\n",
            "  Downloading pydub-0.25.1-py2.py3-none-any.whl (32 kB)\n",
            "Requirement already satisfied: requests>=2.26.0 in /usr/local/lib/python3.10/dist-packages (from SpeechRecognition) (2.27.1)\n",
            "Requirement already satisfied: urllib3<1.27,>=1.21.1 in /usr/local/lib/python3.10/dist-packages (from requests>=2.26.0->SpeechRecognition) (1.26.16)\n",
            "Requirement already satisfied: certifi>=2017.4.17 in /usr/local/lib/python3.10/dist-packages (from requests>=2.26.0->SpeechRecognition) (2023.7.22)\n",
            "Requirement already satisfied: charset-normalizer~=2.0.0 in /usr/local/lib/python3.10/dist-packages (from requests>=2.26.0->SpeechRecognition) (2.0.12)\n",
            "Requirement already satisfied: idna<4,>=2.5 in /usr/local/lib/python3.10/dist-packages (from requests>=2.26.0->SpeechRecognition) (3.4)\n",
            "Installing collected packages: pydub, SpeechRecognition\n",
            "Successfully installed SpeechRecognition-3.10.0 pydub-0.25.1\n"
          ]
        }
      ]
    },
    {
      "cell_type": "markdown",
      "source": [
        "# Main Code"
      ],
      "metadata": {
        "id": "NVaJr0nxkY9n"
      }
    },
    {
      "cell_type": "code",
      "source": [
        "import speech_recognition as sr\n",
        "import time"
      ],
      "metadata": {
        "id": "7xjsR38nkU6V"
      },
      "execution_count": 3,
      "outputs": []
    },
    {
      "cell_type": "markdown",
      "source": [
        "# To record audio"
      ],
      "metadata": {
        "id": "jmDQMSOnlWnC"
      }
    },
    {
      "cell_type": "code",
      "source": [
        "# Initialize the recognizer from speech_recognition\n",
        "r= sr.Recognizer()\n",
        "\n",
        "# To obtain the audio from the microphone\n",
        "mic = sr.Microphone()\n",
        "max_time = 40\n",
        "start_time = time.time()  # To remember when we started\n",
        "# keep listening for the stipulated time\n",
        "# and obtain the audio from microphone\n",
        "while (time.time() - start_time) < max_time:\n",
        "     with mic as source:\n",
        "        # # wait for a second to let the recognizer\n",
        "        # # adjust the energy threshold based on\n",
        "        # # the surrounding noise level\n",
        "        # r.adjust_for_ambient_noise(source)\n",
        "        audio= r.listen(source)\n",
        "# Write the audio to a wav file\n",
        "with open(\"my_audio.wav\", \"wb\") as file:\n",
        "        file.write(audio.get_wav_data())"
      ],
      "metadata": {
        "id": "2WuNSaVlkcfK"
      },
      "execution_count": null,
      "outputs": []
    },
    {
      "cell_type": "markdown",
      "source": [
        "###### Depending on the audio file format, you can use\n",
        "###### get_wav_data() for WAV file\n",
        "###### get_flac_data() for FLAC audio files\n",
        "###### get_aiff_data() for AIFF files"
      ],
      "metadata": {
        "id": "VsQ1J6lmlLZl"
      }
    },
    {
      "cell_type": "markdown",
      "source": [
        "# To transcribe audio"
      ],
      "metadata": {
        "id": "4QNfYDnxlY64"
      }
    },
    {
      "cell_type": "markdown",
      "source": [
        "wav file"
      ],
      "metadata": {
        "id": "-0WownHumOfU"
      }
    },
    {
      "cell_type": "code",
      "source": [
        "# Initialize the recognizer from sppech_recognition\n",
        "r = sr.Recognizer()\n",
        "# Reading from a wav file\n",
        "audio=sr.AudioFile('my_audio.wav')\n",
        "with audio as source:\n",
        "    audio = r.record(source)\n",
        "try:\n",
        "    #use google speech recognition\n",
        "    s = r.recognize_google(audio)\n",
        "    print(\"Text: \"+s)\n",
        "except Exception as e:\n",
        "    print(\"Exception: \"+str(e))"
      ],
      "metadata": {
        "id": "f3J1t043lRtm"
      },
      "execution_count": null,
      "outputs": []
    },
    {
      "cell_type": "markdown",
      "source": [
        "mp3 file"
      ],
      "metadata": {
        "id": "Pn1xwcOzmTFj"
      }
    },
    {
      "cell_type": "code",
      "source": [
        "from pydub import AudioSegment # uses FFMPEG\n",
        "import speech_recognition as sr\n",
        "\n",
        "def process(filepath, chunksize=60000):\n",
        "    #0: load mp3\n",
        "    sound = AudioSegment.from_mp3(filepath)\n",
        "\n",
        "    #1: split file into 60s chunks\n",
        "    def divide_chunks(sound, chunksize):\n",
        "        # looping till length l\n",
        "        for i in range(0, len(sound), chunksize):\n",
        "            yield sound[i:i + chunksize]\n",
        "    chunks = list(divide_chunks(sound, chunksize))\n",
        "    print(f\"{len(chunks)} chunks of {chunksize/1000}s each\")\n",
        "\n",
        "    r = sr.Recognizer()\n",
        "    #2: per chunk, save to wav, then read and run through recognize_google()\n",
        "    string_index = {}\n",
        "    for index,chunk in enumerate(chunks):\n",
        "        #TODO io.BytesIO()\n",
        "        temp = 'temp.wav'\n",
        "        chunk.export(temp, format='wav')\n",
        "        with sr.AudioFile(temp) as source:\n",
        "            audio = r.record(source)\n",
        "        #s = r.recognize_google(audio, language=\"en-US\") #, key=API_KEY) --- my key results in broken pipe\n",
        "        s = r.recognize_google(audio, language=\"en-US\")\n",
        "        string_index[index] = s\n",
        "        break\n",
        "    return ' '.join([string_index[i] for i in range(len(string_index))])\n",
        "\n",
        "audio_file_path = '/content/fake-1.mp3'\n",
        "text = process(audio_file_path)\n",
        "real_text = \"Oh, he has been away from New York—he has been all round the world. He doesn't know many people here, but he's very sociable, and he wants to know every one.\"\n",
        "print(text)\n",
        "print(real_text)"
      ],
      "metadata": {
        "colab": {
          "base_uri": "https://localhost:8080/"
        },
        "id": "d1euCuHTlqqm",
        "outputId": "8ed1fad1-741a-44c9-9a40-71c1864a9231"
      },
      "execution_count": 4,
      "outputs": [
        {
          "output_type": "stream",
          "name": "stdout",
          "text": [
            "1 chunks of 60.0s each\n",
            "oh he has been away from New York he has been all around the world he doesn't know many people here but he's very sociable and he wants to know everyone\n",
            "Oh, he has been away from New York—he has been all round the world. He doesn't know many people here, but he's very sociable, and he wants to know every one.\n"
          ]
        }
      ]
    }
  ]
}